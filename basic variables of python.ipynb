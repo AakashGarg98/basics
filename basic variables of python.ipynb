{
 "cells": [
  {
   "cell_type": "code",
   "execution_count": 1,
   "id": "18bc4ac6-ab3b-4365-9175-0d794620902b",
   "metadata": {},
   "outputs": [
    {
     "data": {
      "text/plain": [
       "3"
      ]
     },
     "execution_count": 1,
     "metadata": {},
     "output_type": "execute_result"
    }
   ],
   "source": [
    "1+2"
   ]
  },
  {
   "cell_type": "code",
   "execution_count": 3,
   "id": "f814988a-bbc9-426b-ab3b-fa7b01a69163",
   "metadata": {},
   "outputs": [],
   "source": [
    "a=10"
   ]
  },
  {
   "cell_type": "code",
   "execution_count": 4,
   "id": "44c3a8ea-47cf-42f6-bee5-1cadadff4a62",
   "metadata": {},
   "outputs": [
    {
     "data": {
      "text/plain": [
       "10"
      ]
     },
     "execution_count": 4,
     "metadata": {},
     "output_type": "execute_result"
    }
   ],
   "source": [
    "a"
   ]
  },
  {
   "cell_type": "code",
   "execution_count": 5,
   "id": "bf186bec-9b8f-4ac9-bca3-03929109e67c",
   "metadata": {},
   "outputs": [],
   "source": [
    "aakash=124432"
   ]
  },
  {
   "cell_type": "code",
   "execution_count": 6,
   "id": "f0fc0f63-1773-4b53-9f02-227321f246b6",
   "metadata": {},
   "outputs": [
    {
     "data": {
      "text/plain": [
       "124432"
      ]
     },
     "execution_count": 6,
     "metadata": {},
     "output_type": "execute_result"
    }
   ],
   "source": [
    "aakash"
   ]
  },
  {
   "cell_type": "code",
   "execution_count": 7,
   "id": "cf26aba4-0c91-4323-b60b-d68500cf2263",
   "metadata": {},
   "outputs": [
    {
     "data": {
      "text/plain": [
       "int"
      ]
     },
     "execution_count": 7,
     "metadata": {},
     "output_type": "execute_result"
    }
   ],
   "source": [
    "type(aakash)"
   ]
  },
  {
   "cell_type": "code",
   "execution_count": 8,
   "id": "90919599-637f-4af2-b14c-b0cbabffff25",
   "metadata": {},
   "outputs": [
    {
     "data": {
      "text/plain": [
       "int"
      ]
     },
     "execution_count": 8,
     "metadata": {},
     "output_type": "execute_result"
    }
   ],
   "source": [
    "type(a)"
   ]
  },
  {
   "cell_type": "code",
   "execution_count": 9,
   "id": "b3c78cb1-fe0f-47e8-a18c-550834807e83",
   "metadata": {},
   "outputs": [],
   "source": [
    "s=\"pwskills\""
   ]
  },
  {
   "cell_type": "code",
   "execution_count": 10,
   "id": "73f630c1-22ba-4390-af52-f8bed33ca3f0",
   "metadata": {},
   "outputs": [
    {
     "data": {
      "text/plain": [
       "'pwskills'"
      ]
     },
     "execution_count": 10,
     "metadata": {},
     "output_type": "execute_result"
    }
   ],
   "source": [
    "s"
   ]
  },
  {
   "cell_type": "code",
   "execution_count": 11,
   "id": "223420f9-870e-4b1a-870a-48248b4b2729",
   "metadata": {},
   "outputs": [
    {
     "data": {
      "text/plain": [
       "str"
      ]
     },
     "execution_count": 11,
     "metadata": {},
     "output_type": "execute_result"
    }
   ],
   "source": [
    "type(s)"
   ]
  },
  {
   "cell_type": "code",
   "execution_count": 13,
   "id": "3eca1d58-e2f6-4f35-a248-785671e4359f",
   "metadata": {},
   "outputs": [],
   "source": [
    "s1='this is my first python lecture'"
   ]
  },
  {
   "cell_type": "code",
   "execution_count": 14,
   "id": "b0191b19-d7cb-4b46-a455-a5263e15c76a",
   "metadata": {},
   "outputs": [
    {
     "data": {
      "text/plain": [
       "'this is my first python lecture'"
      ]
     },
     "execution_count": 14,
     "metadata": {},
     "output_type": "execute_result"
    }
   ],
   "source": [
    "s1"
   ]
  },
  {
   "cell_type": "code",
   "execution_count": 15,
   "id": "928c84d8-a786-447c-80ce-b71bd517e1d9",
   "metadata": {},
   "outputs": [
    {
     "data": {
      "text/plain": [
       "str"
      ]
     },
     "execution_count": 15,
     "metadata": {},
     "output_type": "execute_result"
    }
   ],
   "source": [
    "type(s1)"
   ]
  },
  {
   "cell_type": "code",
   "execution_count": 16,
   "id": "d4a31c0a-1616-4dbe-b6ac-3bf911ccf274",
   "metadata": {},
   "outputs": [],
   "source": [
    "f=87686.68686"
   ]
  },
  {
   "cell_type": "code",
   "execution_count": 17,
   "id": "80ff6e97-a284-4aed-be25-be182d2a3955",
   "metadata": {},
   "outputs": [
    {
     "data": {
      "text/plain": [
       "87686.68686"
      ]
     },
     "execution_count": 17,
     "metadata": {},
     "output_type": "execute_result"
    }
   ],
   "source": [
    "f"
   ]
  },
  {
   "cell_type": "code",
   "execution_count": 18,
   "id": "fee845e7-ec26-4b9c-9dec-396819495c9e",
   "metadata": {},
   "outputs": [
    {
     "data": {
      "text/plain": [
       "float"
      ]
     },
     "execution_count": 18,
     "metadata": {},
     "output_type": "execute_result"
    }
   ],
   "source": [
    "type(f)"
   ]
  },
  {
   "cell_type": "code",
   "execution_count": 19,
   "id": "4e7af4e6-dd35-42a5-83ce-aa31767ff97e",
   "metadata": {},
   "outputs": [],
   "source": [
    "c=5+6j"
   ]
  },
  {
   "cell_type": "code",
   "execution_count": 20,
   "id": "29333ab8-d7af-484f-a161-96caa5fcbfef",
   "metadata": {},
   "outputs": [
    {
     "data": {
      "text/plain": [
       "(5+6j)"
      ]
     },
     "execution_count": 20,
     "metadata": {},
     "output_type": "execute_result"
    }
   ],
   "source": [
    "c"
   ]
  },
  {
   "cell_type": "code",
   "execution_count": 21,
   "id": "4c463c01-17e3-443f-be9c-625e39c4974d",
   "metadata": {},
   "outputs": [
    {
     "data": {
      "text/plain": [
       "complex"
      ]
     },
     "execution_count": 21,
     "metadata": {},
     "output_type": "execute_result"
    }
   ],
   "source": [
    "type(c)"
   ]
  },
  {
   "cell_type": "code",
   "execution_count": 22,
   "id": "1beba4d7-8b91-47c6-89d1-590d9e88359d",
   "metadata": {},
   "outputs": [
    {
     "data": {
      "text/plain": [
       "5.0"
      ]
     },
     "execution_count": 22,
     "metadata": {},
     "output_type": "execute_result"
    }
   ],
   "source": [
    "c.real"
   ]
  },
  {
   "cell_type": "code",
   "execution_count": 23,
   "id": "973e0bfc-a858-409d-a2ba-f13e80ea18aa",
   "metadata": {},
   "outputs": [
    {
     "data": {
      "text/plain": [
       "6.0"
      ]
     },
     "execution_count": 23,
     "metadata": {},
     "output_type": "execute_result"
    }
   ],
   "source": [
    "c.imag"
   ]
  },
  {
   "cell_type": "code",
   "execution_count": 25,
   "id": "bbcbc581-39f1-4e6a-ad5a-1985e0f3742f",
   "metadata": {},
   "outputs": [],
   "source": [
    "b=True"
   ]
  },
  {
   "cell_type": "code",
   "execution_count": 26,
   "id": "b55a2540-8bda-4b49-be7f-acee76eb63fb",
   "metadata": {},
   "outputs": [
    {
     "data": {
      "text/plain": [
       "bool"
      ]
     },
     "execution_count": 26,
     "metadata": {},
     "output_type": "execute_result"
    }
   ],
   "source": [
    "type(b)"
   ]
  },
  {
   "cell_type": "code",
   "execution_count": 27,
   "id": "a5bd40e6-54b6-422e-b15d-fa4fc8682d84",
   "metadata": {},
   "outputs": [],
   "source": [
    "b1=False"
   ]
  },
  {
   "cell_type": "code",
   "execution_count": 28,
   "id": "d2e2e583-446f-4191-9630-8b6dbea2c965",
   "metadata": {},
   "outputs": [
    {
     "data": {
      "text/plain": [
       "bool"
      ]
     },
     "execution_count": 28,
     "metadata": {},
     "output_type": "execute_result"
    }
   ],
   "source": [
    "type(b1)"
   ]
  },
  {
   "cell_type": "code",
   "execution_count": 29,
   "id": "407748c9-1b8b-4a63-a660-2546f4e96bf1",
   "metadata": {},
   "outputs": [
    {
     "data": {
      "text/plain": [
       "False"
      ]
     },
     "execution_count": 29,
     "metadata": {},
     "output_type": "execute_result"
    }
   ],
   "source": [
    "b1"
   ]
  },
  {
   "cell_type": "code",
   "execution_count": 32,
   "id": "84924a4a-2b2d-4fbd-9aa0-b92fca409bca",
   "metadata": {},
   "outputs": [],
   "source": [
    "a1=45\n",
    "a2=34"
   ]
  },
  {
   "cell_type": "code",
   "execution_count": 33,
   "id": "a87d5b04-5f74-4534-94aa-3913980fcfbd",
   "metadata": {},
   "outputs": [
    {
     "data": {
      "text/plain": [
       "79"
      ]
     },
     "execution_count": 33,
     "metadata": {},
     "output_type": "execute_result"
    }
   ],
   "source": [
    "a1+a2"
   ]
  },
  {
   "cell_type": "code",
   "execution_count": 34,
   "id": "24301b85-8681-4fd4-a3ff-06c7adbf947e",
   "metadata": {},
   "outputs": [
    {
     "data": {
      "text/plain": [
       "1530"
      ]
     },
     "execution_count": 34,
     "metadata": {},
     "output_type": "execute_result"
    }
   ],
   "source": [
    "a1*a2"
   ]
  },
  {
   "cell_type": "code",
   "execution_count": 35,
   "id": "52235057-bd64-4cc8-bbe3-68302561db7a",
   "metadata": {},
   "outputs": [
    {
     "data": {
      "text/plain": [
       "1.3235294117647058"
      ]
     },
     "execution_count": 35,
     "metadata": {},
     "output_type": "execute_result"
    }
   ],
   "source": [
    "a1/a2"
   ]
  },
  {
   "cell_type": "code",
   "execution_count": 36,
   "id": "3cba7481-c7d7-4feb-924c-823369770121",
   "metadata": {},
   "outputs": [
    {
     "data": {
      "text/plain": [
       "11"
      ]
     },
     "execution_count": 36,
     "metadata": {},
     "output_type": "execute_result"
    }
   ],
   "source": [
    "a1-a2"
   ]
  },
  {
   "cell_type": "code",
   "execution_count": 37,
   "id": "c2ed79a5-aafb-4be5-a892-de5e48bc989c",
   "metadata": {},
   "outputs": [
    {
     "data": {
      "text/plain": [
       "1.3235294117647058"
      ]
     },
     "execution_count": 37,
     "metadata": {},
     "output_type": "execute_result"
    }
   ],
   "source": [
    "45/34"
   ]
  },
  {
   "cell_type": "code",
   "execution_count": 38,
   "id": "9f2eea0a-530a-4ffd-b302-b111853ac1b3",
   "metadata": {},
   "outputs": [],
   "source": [
    "a1,a2=34,45"
   ]
  },
  {
   "cell_type": "code",
   "execution_count": 39,
   "id": "e607ade3-0968-415e-97bb-8fd1eff6663a",
   "metadata": {},
   "outputs": [
    {
     "data": {
      "text/plain": [
       "34"
      ]
     },
     "execution_count": 39,
     "metadata": {},
     "output_type": "execute_result"
    }
   ],
   "source": [
    "a1"
   ]
  },
  {
   "cell_type": "code",
   "execution_count": 40,
   "id": "bfec6950-1100-434c-8388-5caac89a772d",
   "metadata": {},
   "outputs": [
    {
     "data": {
      "text/plain": [
       "45"
      ]
     },
     "execution_count": 40,
     "metadata": {},
     "output_type": "execute_result"
    }
   ],
   "source": [
    "a2"
   ]
  },
  {
   "cell_type": "code",
   "execution_count": 41,
   "id": "a6cab393-fe0c-437d-9c54-2696c081a05b",
   "metadata": {},
   "outputs": [],
   "source": [
    "a,b,c,d=354,\"aakash\",34.34,True"
   ]
  },
  {
   "cell_type": "code",
   "execution_count": 42,
   "id": "a167d082-e84a-43e4-b809-60da2f72404f",
   "metadata": {},
   "outputs": [
    {
     "data": {
      "text/plain": [
       "354"
      ]
     },
     "execution_count": 42,
     "metadata": {},
     "output_type": "execute_result"
    }
   ],
   "source": [
    "a"
   ]
  },
  {
   "cell_type": "code",
   "execution_count": 43,
   "id": "c6c06d7c-c746-477b-ae11-4c4c2e257d41",
   "metadata": {},
   "outputs": [
    {
     "data": {
      "text/plain": [
       "'aakash'"
      ]
     },
     "execution_count": 43,
     "metadata": {},
     "output_type": "execute_result"
    }
   ],
   "source": [
    "b"
   ]
  },
  {
   "cell_type": "code",
   "execution_count": 44,
   "id": "0118ddf4-5bc6-4efb-88ff-365ee983b7af",
   "metadata": {},
   "outputs": [
    {
     "data": {
      "text/plain": [
       "34.34"
      ]
     },
     "execution_count": 44,
     "metadata": {},
     "output_type": "execute_result"
    }
   ],
   "source": [
    "c"
   ]
  },
  {
   "cell_type": "code",
   "execution_count": 45,
   "id": "998fcab1-bdd4-4c64-bbf2-13ff3f5fce70",
   "metadata": {},
   "outputs": [
    {
     "data": {
      "text/plain": [
       "True"
      ]
     },
     "execution_count": 45,
     "metadata": {},
     "output_type": "execute_result"
    }
   ],
   "source": [
    "d"
   ]
  },
  {
   "cell_type": "code",
   "execution_count": 46,
   "id": "715be2a7-1373-4cb7-8f41-1d602d4bfbed",
   "metadata": {},
   "outputs": [
    {
     "name": "stderr",
     "output_type": "stream",
     "text": [
      "UsageError: Line magic function `%a=644` not found.\n"
     ]
    }
   ],
   "source": [
    "%a=644"
   ]
  },
  {
   "cell_type": "code",
   "execution_count": 47,
   "id": "51f5b56d-f8b2-4a89-a4e9-e0d615c1db15",
   "metadata": {},
   "outputs": [
    {
     "ename": "SyntaxError",
     "evalue": "invalid binary literal (60855991.py, line 1)",
     "output_type": "error",
     "traceback": [
      "\u001b[0;36m  Cell \u001b[0;32mIn[47], line 1\u001b[0;36m\u001b[0m\n\u001b[0;31m    0b=456768\u001b[0m\n\u001b[0m     ^\u001b[0m\n\u001b[0;31mSyntaxError\u001b[0m\u001b[0;31m:\u001b[0m invalid binary literal\n"
     ]
    }
   ],
   "source": [
    "0b=456768"
   ]
  },
  {
   "cell_type": "code",
   "execution_count": 48,
   "id": "e3e4a505-73bd-4501-9401-65faeb641cee",
   "metadata": {},
   "outputs": [],
   "source": [
    "b0=3443"
   ]
  },
  {
   "cell_type": "code",
   "execution_count": 49,
   "id": "e99970f9-da15-4752-9fcd-c4bb2b97f8ed",
   "metadata": {},
   "outputs": [
    {
     "ename": "SyntaxError",
     "evalue": "invalid syntax. Maybe you meant '==' or ':=' instead of '='? (3140254101.py, line 1)",
     "output_type": "error",
     "traceback": [
      "\u001b[0;36m  Cell \u001b[0;32mIn[49], line 1\u001b[0;36m\u001b[0m\n\u001b[0;31m    @h=6766889\u001b[0m\n\u001b[0m     ^\u001b[0m\n\u001b[0;31mSyntaxError\u001b[0m\u001b[0;31m:\u001b[0m invalid syntax. Maybe you meant '==' or ':=' instead of '='?\n"
     ]
    }
   ],
   "source": [
    "@h=6766889"
   ]
  },
  {
   "cell_type": "code",
   "execution_count": 50,
   "id": "383f87c5-6ab1-4805-bd5c-feda94bfb1e8",
   "metadata": {},
   "outputs": [],
   "source": [
    "_a=34"
   ]
  },
  {
   "cell_type": "code",
   "execution_count": 51,
   "id": "28937493-e482-4ce8-8948-bf4f84be9300",
   "metadata": {},
   "outputs": [
    {
     "ename": "SyntaxError",
     "evalue": "cannot assign to expression here. Maybe you meant '==' instead of '='? (1081877877.py, line 1)",
     "output_type": "error",
     "traceback": [
      "\u001b[0;36m  Cell \u001b[0;32mIn[51], line 1\u001b[0;36m\u001b[0m\n\u001b[0;31m    -b=543\u001b[0m\n\u001b[0m    ^\u001b[0m\n\u001b[0;31mSyntaxError\u001b[0m\u001b[0;31m:\u001b[0m cannot assign to expression here. Maybe you meant '==' instead of '='?\n"
     ]
    }
   ],
   "source": [
    "-b=543"
   ]
  },
  {
   "cell_type": "code",
   "execution_count": 52,
   "id": "ad6806c7-b88b-4280-8e7a-86ce9e20c06e",
   "metadata": {},
   "outputs": [
    {
     "ename": "SyntaxError",
     "evalue": "cannot assign to True (3695223232.py, line 1)",
     "output_type": "error",
     "traceback": [
      "\u001b[0;36m  Cell \u001b[0;32mIn[52], line 1\u001b[0;36m\u001b[0m\n\u001b[0;31m    True=45\u001b[0m\n\u001b[0m    ^\u001b[0m\n\u001b[0;31mSyntaxError\u001b[0m\u001b[0;31m:\u001b[0m cannot assign to True\n"
     ]
    }
   ],
   "source": [
    "True=45"
   ]
  },
  {
   "cell_type": "code",
   "execution_count": 53,
   "id": "5828d46d-c6c3-4796-926f-06c9f4ffe9c1",
   "metadata": {},
   "outputs": [],
   "source": [
    "int=345"
   ]
  },
  {
   "cell_type": "code",
   "execution_count": 54,
   "id": "a08841aa-ad97-4a19-ba02-d821b41fbe3e",
   "metadata": {},
   "outputs": [
    {
     "data": {
      "text/plain": [
       "345"
      ]
     },
     "execution_count": 54,
     "metadata": {},
     "output_type": "execute_result"
    }
   ],
   "source": [
    "int"
   ]
  },
  {
   "cell_type": "code",
   "execution_count": 55,
   "id": "75538d4c-44f4-4c25-9b05-2bb25ad856db",
   "metadata": {},
   "outputs": [],
   "source": [
    "b1=True"
   ]
  },
  {
   "cell_type": "code",
   "execution_count": 56,
   "id": "200086f9-8bb1-4f33-a3e1-05965f84016e",
   "metadata": {},
   "outputs": [],
   "source": [
    "b2=False"
   ]
  },
  {
   "cell_type": "code",
   "execution_count": 57,
   "id": "029103fa-5551-4923-91c3-34453d0d8508",
   "metadata": {},
   "outputs": [
    {
     "data": {
      "text/plain": [
       "1"
      ]
     },
     "execution_count": 57,
     "metadata": {},
     "output_type": "execute_result"
    }
   ],
   "source": [
    "b1-b2"
   ]
  },
  {
   "cell_type": "code",
   "execution_count": 58,
   "id": "4409a3d5-9f0e-46b9-91ff-59d032445a5a",
   "metadata": {},
   "outputs": [
    {
     "data": {
      "text/plain": [
       "0"
      ]
     },
     "execution_count": 58,
     "metadata": {},
     "output_type": "execute_result"
    }
   ],
   "source": [
    "b1*b2"
   ]
  },
  {
   "cell_type": "code",
   "execution_count": 59,
   "id": "a582c076-1fef-4258-8e6f-3bf39159abf6",
   "metadata": {},
   "outputs": [
    {
     "ename": "ZeroDivisionError",
     "evalue": "division by zero",
     "output_type": "error",
     "traceback": [
      "\u001b[0;31m---------------------------------------------------------------------------\u001b[0m",
      "\u001b[0;31mZeroDivisionError\u001b[0m                         Traceback (most recent call last)",
      "Cell \u001b[0;32mIn[59], line 1\u001b[0m\n\u001b[0;32m----> 1\u001b[0m \u001b[43mb1\u001b[49m\u001b[38;5;241;43m/\u001b[39;49m\u001b[43mb2\u001b[49m\n",
      "\u001b[0;31mZeroDivisionError\u001b[0m: division by zero"
     ]
    }
   ],
   "source": [
    "b1/b2"
   ]
  },
  {
   "cell_type": "code",
   "execution_count": 60,
   "id": "84d67e4f-18b9-4e9a-848e-40e23e4a1d74",
   "metadata": {},
   "outputs": [],
   "source": [
    "s1='my name is aakash garg'"
   ]
  },
  {
   "cell_type": "code",
   "execution_count": 61,
   "id": "09a0d6df-ef88-437b-a2ab-cca48aa0c7ac",
   "metadata": {},
   "outputs": [
    {
     "data": {
      "text/plain": [
       "'my name is aakash garg'"
      ]
     },
     "execution_count": 61,
     "metadata": {},
     "output_type": "execute_result"
    }
   ],
   "source": [
    "s1"
   ]
  },
  {
   "cell_type": "code",
   "execution_count": 62,
   "id": "3a3237cd-7d18-435f-8a5f-96bc6e6aff75",
   "metadata": {},
   "outputs": [
    {
     "data": {
      "text/plain": [
       "str"
      ]
     },
     "execution_count": 62,
     "metadata": {},
     "output_type": "execute_result"
    }
   ],
   "source": [
    "type(s1)"
   ]
  },
  {
   "cell_type": "code",
   "execution_count": 63,
   "id": "0eff1075-8d1c-49e3-a420-c5cd0805bebd",
   "metadata": {},
   "outputs": [
    {
     "ename": "SyntaxError",
     "evalue": "unterminated string literal (detected at line 1) (3804668607.py, line 1)",
     "output_type": "error",
     "traceback": [
      "\u001b[0;36m  Cell \u001b[0;32mIn[63], line 1\u001b[0;36m\u001b[0m\n\u001b[0;31m    s2='this is my first python class for data science master's'\u001b[0m\n\u001b[0m                                                               ^\u001b[0m\n\u001b[0;31mSyntaxError\u001b[0m\u001b[0;31m:\u001b[0m unterminated string literal (detected at line 1)\n"
     ]
    }
   ],
   "source": [
    "s2='this is my first python class for data science master's'"
   ]
  },
  {
   "cell_type": "code",
   "execution_count": 64,
   "id": "678f55f2-c3d0-48f1-9293-83c97a4a6c44",
   "metadata": {},
   "outputs": [],
   "source": [
    "s2=\"this is my first python class for data science master's\" "
   ]
  },
  {
   "cell_type": "code",
   "execution_count": 65,
   "id": "14256e98-3ab9-4b90-919f-b22f195bfcbf",
   "metadata": {},
   "outputs": [
    {
     "data": {
      "text/plain": [
       "\"this is my first python class for data science master's\""
      ]
     },
     "execution_count": 65,
     "metadata": {},
     "output_type": "execute_result"
    }
   ],
   "source": [
    "s2"
   ]
  },
  {
   "cell_type": "code",
   "execution_count": 66,
   "id": "3ec3e268-9e3e-4233-8972-f02229f0d7f5",
   "metadata": {},
   "outputs": [
    {
     "ename": "SyntaxError",
     "evalue": "unterminated string literal (detected at line 1) (1684373657.py, line 1)",
     "output_type": "error",
     "traceback": [
      "\u001b[0;36m  Cell \u001b[0;32mIn[66], line 1\u001b[0;36m\u001b[0m\n\u001b[0;31m    s3=\"this is my first python class for data science master\"s\"\u001b[0m\n\u001b[0m                                                               ^\u001b[0m\n\u001b[0;31mSyntaxError\u001b[0m\u001b[0;31m:\u001b[0m unterminated string literal (detected at line 1)\n"
     ]
    }
   ],
   "source": [
    "s3=\"this is my first python class for data science master\"s\""
   ]
  },
  {
   "cell_type": "code",
   "execution_count": 67,
   "id": "e0a51f9f-5815-415a-ae60-f934ab9b00be",
   "metadata": {},
   "outputs": [],
   "source": [
    "s4='this is my first python class for data science master\"s'"
   ]
  },
  {
   "cell_type": "code",
   "execution_count": 68,
   "id": "918967e6-e071-46c6-b1c9-82905611bb95",
   "metadata": {},
   "outputs": [
    {
     "data": {
      "text/plain": [
       "'this is my first python class for data science master\"s'"
      ]
     },
     "execution_count": 68,
     "metadata": {},
     "output_type": "execute_result"
    }
   ],
   "source": [
    "s4"
   ]
  },
  {
   "cell_type": "code",
   "execution_count": 69,
   "id": "62e8a542-4eb0-41c8-a983-583755e80346",
   "metadata": {},
   "outputs": [
    {
     "ename": "SyntaxError",
     "evalue": "invalid syntax (3539388329.py, line 1)",
     "output_type": "error",
     "traceback": [
      "\u001b[0;36m  Cell \u001b[0;32mIn[69], line 1\u001b[0;36m\u001b[0m\n\u001b[0;31m    this is my code to create a string variable with quotes\u001b[0m\n\u001b[0m               ^\u001b[0m\n\u001b[0;31mSyntaxError\u001b[0m\u001b[0;31m:\u001b[0m invalid syntax\n"
     ]
    }
   ],
   "source": [
    "this is my code to create a string variable with quotes \n",
    "\n",
    "s3='this is my first python class for data science master\"s'"
   ]
  },
  {
   "cell_type": "code",
   "execution_count": 70,
   "id": "313bdeec-77f1-4709-8d4f-7c3e87b77d17",
   "metadata": {},
   "outputs": [],
   "source": [
    "#this is my code to create a string variable with quotes \n",
    "\n",
    "s3='this is my first python class for data science master\"s'"
   ]
  },
  {
   "cell_type": "code",
   "execution_count": 71,
   "id": "954a5c61-ec27-457d-9ee3-c4eb64577951",
   "metadata": {},
   "outputs": [
    {
     "ename": "SyntaxError",
     "evalue": "invalid syntax (1275451834.py, line 1)",
     "output_type": "error",
     "traceback": [
      "\u001b[0;36m  Cell \u001b[0;32mIn[71], line 1\u001b[0;36m\u001b[0m\n\u001b[0;31m    this is my first python class\u001b[0m\n\u001b[0m               ^\u001b[0m\n\u001b[0;31mSyntaxError\u001b[0m\u001b[0;31m:\u001b[0m invalid syntax\n"
     ]
    }
   ],
   "source": [
    "this is my first python class\n",
    "i am trying to learn variable declaration\n",
    "so far i have learnt int,boolen,string, complex number,float,variable declaration\n",
    "a=10"
   ]
  },
  {
   "cell_type": "code",
   "execution_count": 72,
   "id": "db0541c8-4159-49f7-8b88-9d647b340c19",
   "metadata": {},
   "outputs": [],
   "source": [
    "#this is my first python class\n",
    "#i am trying to learn variable declaration\n",
    "#so far i have learnt int,boolen,string, complex number,float,variable declaration\n",
    "a=10"
   ]
  },
  {
   "cell_type": "code",
   "execution_count": 73,
   "id": "99bf0dea-ac03-4f8a-adbd-92d711ce4123",
   "metadata": {},
   "outputs": [],
   "source": [
    "'''this is my first python class\n",
    "i am trying to learn variable declaration\n",
    "so far i have learnt int,boolen,string, complex number,float,variable declaration'''\n",
    "a=10"
   ]
  },
  {
   "cell_type": "code",
   "execution_count": 74,
   "id": "1c11fe15-f135-49db-9b1a-8b813ab4fe72",
   "metadata": {},
   "outputs": [],
   "source": [
    "s1=\"sudh\""
   ]
  },
  {
   "cell_type": "code",
   "execution_count": 75,
   "id": "7670b665-4fa3-40c9-8688-05a9ef146fba",
   "metadata": {},
   "outputs": [],
   "source": [
    "a=10"
   ]
  },
  {
   "cell_type": "code",
   "execution_count": 76,
   "id": "23c5b0ba-2e64-4be7-9a24-56dc885a1402",
   "metadata": {},
   "outputs": [
    {
     "ename": "TypeError",
     "evalue": "can only concatenate str (not \"int\") to str",
     "output_type": "error",
     "traceback": [
      "\u001b[0;31m---------------------------------------------------------------------------\u001b[0m",
      "\u001b[0;31mTypeError\u001b[0m                                 Traceback (most recent call last)",
      "Cell \u001b[0;32mIn[76], line 1\u001b[0m\n\u001b[0;32m----> 1\u001b[0m \u001b[43ms1\u001b[49m\u001b[38;5;241;43m+\u001b[39;49m\u001b[43ma\u001b[49m\n",
      "\u001b[0;31mTypeError\u001b[0m: can only concatenate str (not \"int\") to str"
     ]
    }
   ],
   "source": [
    "s1+a"
   ]
  },
  {
   "cell_type": "code",
   "execution_count": 77,
   "id": "4e46cd92-b58f-49b1-8cf8-5c613c42f875",
   "metadata": {},
   "outputs": [
    {
     "data": {
      "text/plain": [
       "'sudhkumar'"
      ]
     },
     "execution_count": 77,
     "metadata": {},
     "output_type": "execute_result"
    }
   ],
   "source": [
    "'sudh'+'kumar'"
   ]
  },
  {
   "cell_type": "code",
   "execution_count": 79,
   "id": "50996559-56bc-48cf-a4d9-607a3972c811",
   "metadata": {},
   "outputs": [
    {
     "data": {
      "text/plain": [
       "'sudh kumar'"
      ]
     },
     "execution_count": 79,
     "metadata": {},
     "output_type": "execute_result"
    }
   ],
   "source": [
    "'''to give space between any word'''\n",
    "\n",
    "'sudh '+'kumar'"
   ]
  },
  {
   "cell_type": "code",
   "execution_count": 80,
   "id": "ad8b0a23-bdde-4a0e-9c00-f99545539f83",
   "metadata": {},
   "outputs": [
    {
     "data": {
      "text/plain": [
       "10"
      ]
     },
     "execution_count": 80,
     "metadata": {},
     "output_type": "execute_result"
    }
   ],
   "source": [
    "a"
   ]
  },
  {
   "cell_type": "code",
   "execution_count": 81,
   "id": "52a220f0-b5ec-419c-bb3c-d89ba1410748",
   "metadata": {},
   "outputs": [
    {
     "data": {
      "text/plain": [
       "int"
      ]
     },
     "execution_count": 81,
     "metadata": {},
     "output_type": "execute_result"
    }
   ],
   "source": [
    "type(a)"
   ]
  },
  {
   "cell_type": "code",
   "execution_count": 82,
   "id": "9b7b0e38-61c8-4f5c-a0e6-a17a3ab5b7f9",
   "metadata": {},
   "outputs": [
    {
     "data": {
      "text/plain": [
       "'10'"
      ]
     },
     "execution_count": 82,
     "metadata": {},
     "output_type": "execute_result"
    }
   ],
   "source": [
    "str(a)"
   ]
  },
  {
   "cell_type": "code",
   "execution_count": 83,
   "id": "beb38ec9-c563-4947-8f46-057f4b17d528",
   "metadata": {},
   "outputs": [
    {
     "data": {
      "text/plain": [
       "'10'"
      ]
     },
     "execution_count": 83,
     "metadata": {},
     "output_type": "execute_result"
    }
   ],
   "source": [
    "'10'"
   ]
  },
  {
   "cell_type": "code",
   "execution_count": 84,
   "id": "443497bf-af2d-4fe6-b9e9-cda474135003",
   "metadata": {},
   "outputs": [
    {
     "data": {
      "text/plain": [
       "'sudh 10'"
      ]
     },
     "execution_count": 84,
     "metadata": {},
     "output_type": "execute_result"
    }
   ],
   "source": [
    "s1+\" \"+str(10)"
   ]
  },
  {
   "cell_type": "code",
   "execution_count": 85,
   "id": "a4825952-588f-4be4-88fa-b92f8f907dbf",
   "metadata": {},
   "outputs": [],
   "source": [
    "#to convert string to integer"
   ]
  },
  {
   "cell_type": "code",
   "execution_count": 86,
   "id": "d3025fee-3042-418d-af53-7b0691d4c973",
   "metadata": {},
   "outputs": [
    {
     "data": {
      "text/plain": [
       "10"
      ]
     },
     "execution_count": 86,
     "metadata": {},
     "output_type": "execute_result"
    }
   ],
   "source": [
    "a"
   ]
  },
  {
   "cell_type": "code",
   "execution_count": 87,
   "id": "67be1134-0ee7-4520-861b-ddc452d6217a",
   "metadata": {},
   "outputs": [],
   "source": [
    "b=str(a)"
   ]
  },
  {
   "cell_type": "code",
   "execution_count": 88,
   "id": "1ad56f32-2927-4f56-bcdf-9fb86b64d1a5",
   "metadata": {},
   "outputs": [
    {
     "data": {
      "text/plain": [
       "'10'"
      ]
     },
     "execution_count": 88,
     "metadata": {},
     "output_type": "execute_result"
    }
   ],
   "source": [
    "b"
   ]
  },
  {
   "cell_type": "code",
   "execution_count": 89,
   "id": "0ac5d7cb-0dbb-4126-8012-bfc4365801ae",
   "metadata": {},
   "outputs": [
    {
     "ename": "TypeError",
     "evalue": "'int' object is not callable",
     "output_type": "error",
     "traceback": [
      "\u001b[0;31m---------------------------------------------------------------------------\u001b[0m",
      "\u001b[0;31mTypeError\u001b[0m                                 Traceback (most recent call last)",
      "Cell \u001b[0;32mIn[89], line 1\u001b[0m\n\u001b[0;32m----> 1\u001b[0m \u001b[38;5;28;43mint\u001b[39;49m\u001b[43m(\u001b[49m\u001b[43mb\u001b[49m\u001b[43m)\u001b[49m\n",
      "\u001b[0;31mTypeError\u001b[0m: 'int' object is not callable"
     ]
    }
   ],
   "source": [
    "int(b)"
   ]
  },
  {
   "cell_type": "code",
   "execution_count": 1,
   "id": "15214545-58a9-49d0-a1ca-c3203d676b8e",
   "metadata": {},
   "outputs": [],
   "source": [
    "s=\"sudh\""
   ]
  },
  {
   "cell_type": "code",
   "execution_count": 2,
   "id": "373b730a-bf3d-4729-b982-388104960dfd",
   "metadata": {},
   "outputs": [
    {
     "ename": "ValueError",
     "evalue": "invalid literal for int() with base 10: 'sudh'",
     "output_type": "error",
     "traceback": [
      "\u001b[0;31m---------------------------------------------------------------------------\u001b[0m",
      "\u001b[0;31mValueError\u001b[0m                                Traceback (most recent call last)",
      "Cell \u001b[0;32mIn[2], line 1\u001b[0m\n\u001b[0;32m----> 1\u001b[0m \u001b[38;5;28;43mint\u001b[39;49m\u001b[43m(\u001b[49m\u001b[43ms\u001b[49m\u001b[43m)\u001b[49m\n",
      "\u001b[0;31mValueError\u001b[0m: invalid literal for int() with base 10: 'sudh'"
     ]
    }
   ],
   "source": [
    "int(s)"
   ]
  },
  {
   "cell_type": "code",
   "execution_count": 3,
   "id": "a2cacc78-12b6-468b-a3b5-fea340a07452",
   "metadata": {},
   "outputs": [],
   "source": [
    "a=434343"
   ]
  },
  {
   "cell_type": "code",
   "execution_count": 15,
   "id": "61d77b9d-febf-49a3-9b98-6468885fd3ae",
   "metadata": {},
   "outputs": [],
   "source": [
    "#to give input in any data"
   ]
  },
  {
   "cell_type": "code",
   "execution_count": 16,
   "id": "d6dae097-6a4b-4a5d-877b-529b5bc7b577",
   "metadata": {},
   "outputs": [
    {
     "name": "stdin",
     "output_type": "stream",
     "text": [
      " hgfhfhfhgjgjg\n"
     ]
    }
   ],
   "source": [
    "b=input()"
   ]
  },
  {
   "cell_type": "code",
   "execution_count": 17,
   "id": "c0fa80f7-3c89-46e8-87d7-014da4348b8e",
   "metadata": {},
   "outputs": [
    {
     "data": {
      "text/plain": [
       "'hgfhfhfhgjgjg'"
      ]
     },
     "execution_count": 17,
     "metadata": {},
     "output_type": "execute_result"
    }
   ],
   "source": [
    "b"
   ]
  },
  {
   "cell_type": "code",
   "execution_count": 18,
   "id": "23de0607-0ae7-47c7-93ab-191e452dd0c4",
   "metadata": {},
   "outputs": [
    {
     "data": {
      "text/plain": [
       "str"
      ]
     },
     "execution_count": 18,
     "metadata": {},
     "output_type": "execute_result"
    }
   ],
   "source": [
    "type(b)"
   ]
  },
  {
   "cell_type": "code",
   "execution_count": 20,
   "id": "ad1511e9-1dd7-404a-bf7f-5f7b1a7c938c",
   "metadata": {},
   "outputs": [
    {
     "name": "stdin",
     "output_type": "stream",
     "text": [
      " 4324435\n"
     ]
    }
   ],
   "source": [
    "c=input()"
   ]
  },
  {
   "cell_type": "code",
   "execution_count": 21,
   "id": "858a8a4c-fcc6-4313-9aa1-ede83d592fda",
   "metadata": {},
   "outputs": [
    {
     "data": {
      "text/plain": [
       "'4324435'"
      ]
     },
     "execution_count": 21,
     "metadata": {},
     "output_type": "execute_result"
    }
   ],
   "source": [
    "c"
   ]
  },
  {
   "cell_type": "code",
   "execution_count": 22,
   "id": "e4d0e8d9-8a35-4fb1-b279-951522efcc34",
   "metadata": {},
   "outputs": [
    {
     "data": {
      "text/plain": [
       "str"
      ]
     },
     "execution_count": 22,
     "metadata": {},
     "output_type": "execute_result"
    }
   ],
   "source": [
    "type(c)"
   ]
  },
  {
   "cell_type": "code",
   "execution_count": 23,
   "id": "f2aa1c2d-44df-4716-95e9-783f5d0f9b89",
   "metadata": {},
   "outputs": [
    {
     "data": {
      "text/plain": [
       "int"
      ]
     },
     "execution_count": 23,
     "metadata": {},
     "output_type": "execute_result"
    }
   ],
   "source": [
    "type(int(c))"
   ]
  },
  {
   "cell_type": "code",
   "execution_count": 25,
   "id": "ed4256f2-4beb-4f89-a67c-4f78f4b2a233",
   "metadata": {},
   "outputs": [
    {
     "data": {
      "text/plain": [
       "str"
      ]
     },
     "execution_count": 25,
     "metadata": {},
     "output_type": "execute_result"
    }
   ],
   "source": [
    "type(c)"
   ]
  },
  {
   "cell_type": "code",
   "execution_count": 26,
   "id": "2c8fc1fb-0054-4202-8ba4-824791a4e436",
   "metadata": {},
   "outputs": [
    {
     "name": "stdin",
     "output_type": "stream",
     "text": [
      " 765.7657\n"
     ]
    }
   ],
   "source": [
    "d=input()"
   ]
  },
  {
   "cell_type": "code",
   "execution_count": 27,
   "id": "1cc706c0-2d3d-4217-a8ff-6e2817056ad1",
   "metadata": {},
   "outputs": [
    {
     "data": {
      "text/plain": [
       "'765.7657'"
      ]
     },
     "execution_count": 27,
     "metadata": {},
     "output_type": "execute_result"
    }
   ],
   "source": [
    "d"
   ]
  },
  {
   "cell_type": "code",
   "execution_count": 28,
   "id": "300dcc53-9cb0-42d9-bb13-aef43c5fbd6c",
   "metadata": {},
   "outputs": [
    {
     "data": {
      "text/plain": [
       "str"
      ]
     },
     "execution_count": 28,
     "metadata": {},
     "output_type": "execute_result"
    }
   ],
   "source": [
    "type(d)"
   ]
  },
  {
   "cell_type": "code",
   "execution_count": 29,
   "id": "8923f0ff-185e-429c-ba6c-25862bf22894",
   "metadata": {},
   "outputs": [
    {
     "name": "stdin",
     "output_type": "stream",
     "text": [
      " 87687.897\n"
     ]
    }
   ],
   "source": [
    "b=float(input())"
   ]
  },
  {
   "cell_type": "code",
   "execution_count": 30,
   "id": "622ab172-e271-4306-9ef9-7d6d0a06aa31",
   "metadata": {},
   "outputs": [
    {
     "data": {
      "text/plain": [
       "float"
      ]
     },
     "execution_count": 30,
     "metadata": {},
     "output_type": "execute_result"
    }
   ],
   "source": [
    "type(b)"
   ]
  },
  {
   "cell_type": "code",
   "execution_count": 10,
   "id": "5a00100c-e3c7-4155-9a6e-c473c758d9f7",
   "metadata": {},
   "outputs": [
    {
     "name": "stdin",
     "output_type": "stream",
     "text": [
      " True\n"
     ]
    }
   ],
   "source": [
    "e=input()"
   ]
  },
  {
   "cell_type": "code",
   "execution_count": 11,
   "id": "4609da56-3a20-4ee3-ad90-98995feb22fb",
   "metadata": {},
   "outputs": [
    {
     "data": {
      "text/plain": [
       "str"
      ]
     },
     "execution_count": 11,
     "metadata": {},
     "output_type": "execute_result"
    }
   ],
   "source": [
    "type(e)"
   ]
  },
  {
   "cell_type": "code",
   "execution_count": 31,
   "id": "94dc86f7-6a73-4e39-b209-2ef43964d9fb",
   "metadata": {},
   "outputs": [
    {
     "name": "stdin",
     "output_type": "stream",
     "text": [
      " True\n"
     ]
    }
   ],
   "source": [
    "b=bool(input())"
   ]
  },
  {
   "cell_type": "code",
   "execution_count": 32,
   "id": "50b89ad8-e814-4b45-bba5-9e92d7047ff4",
   "metadata": {},
   "outputs": [
    {
     "data": {
      "text/plain": [
       "bool"
      ]
     },
     "execution_count": 32,
     "metadata": {},
     "output_type": "execute_result"
    }
   ],
   "source": [
    "type(b)"
   ]
  },
  {
   "cell_type": "code",
   "execution_count": 33,
   "id": "00c3824c-bd7a-445a-935d-9612d448464a",
   "metadata": {},
   "outputs": [
    {
     "name": "stdin",
     "output_type": "stream",
     "text": [
      " 76576.775\n"
     ]
    }
   ],
   "source": [
    "d=float(input())"
   ]
  },
  {
   "cell_type": "code",
   "execution_count": 34,
   "id": "cc02a91c-6252-4b73-a0ac-3e87476cbd47",
   "metadata": {},
   "outputs": [
    {
     "data": {
      "text/plain": [
       "76576.775"
      ]
     },
     "execution_count": 34,
     "metadata": {},
     "output_type": "execute_result"
    }
   ],
   "source": [
    "d"
   ]
  },
  {
   "cell_type": "code",
   "execution_count": 35,
   "id": "8762139c-35c1-4c70-9d53-0914b376a0c0",
   "metadata": {},
   "outputs": [
    {
     "data": {
      "text/plain": [
       "float"
      ]
     },
     "execution_count": 35,
     "metadata": {},
     "output_type": "execute_result"
    }
   ],
   "source": [
    "type(d)"
   ]
  },
  {
   "cell_type": "code",
   "execution_count": 2,
   "id": "2774afdf-c0cf-4f48-8132-c613152426ae",
   "metadata": {},
   "outputs": [],
   "source": [
    "#to separate each character or slicing operation"
   ]
  },
  {
   "cell_type": "code",
   "execution_count": 7,
   "id": "9bd612ed-2ea6-46eb-b4a5-8733610fc34d",
   "metadata": {},
   "outputs": [],
   "source": [
    "s=\"sudh\""
   ]
  },
  {
   "cell_type": "code",
   "execution_count": 8,
   "id": "2747e198-d9db-4bf1-af01-d6ab268f43f5",
   "metadata": {},
   "outputs": [
    {
     "data": {
      "text/plain": [
       "'u'"
      ]
     },
     "execution_count": 8,
     "metadata": {},
     "output_type": "execute_result"
    }
   ],
   "source": [
    "s[1]"
   ]
  },
  {
   "cell_type": "code",
   "execution_count": 9,
   "id": "222353bf-4d43-4ba5-a65d-b0e1f9cefc97",
   "metadata": {},
   "outputs": [
    {
     "data": {
      "text/plain": [
       "'h'"
      ]
     },
     "execution_count": 9,
     "metadata": {},
     "output_type": "execute_result"
    }
   ],
   "source": [
    "s[3]"
   ]
  },
  {
   "cell_type": "code",
   "execution_count": 10,
   "id": "327498a4-9302-481a-8061-c8f3f6f432b9",
   "metadata": {},
   "outputs": [
    {
     "ename": "IndexError",
     "evalue": "string index out of range",
     "output_type": "error",
     "traceback": [
      "\u001b[0;31m---------------------------------------------------------------------------\u001b[0m",
      "\u001b[0;31mIndexError\u001b[0m                                Traceback (most recent call last)",
      "Cell \u001b[0;32mIn[10], line 1\u001b[0m\n\u001b[0;32m----> 1\u001b[0m \u001b[43ms\u001b[49m\u001b[43m[\u001b[49m\u001b[38;5;241;43m100\u001b[39;49m\u001b[43m]\u001b[49m\n",
      "\u001b[0;31mIndexError\u001b[0m: string index out of range"
     ]
    }
   ],
   "source": [
    "s[100]"
   ]
  },
  {
   "cell_type": "code",
   "execution_count": 11,
   "id": "9433541d-52ef-4cb1-9bf4-57a331be8b20",
   "metadata": {},
   "outputs": [
    {
     "data": {
      "text/plain": [
       "'h'"
      ]
     },
     "execution_count": 11,
     "metadata": {},
     "output_type": "execute_result"
    }
   ],
   "source": [
    "s[-1]"
   ]
  },
  {
   "cell_type": "code",
   "execution_count": 12,
   "id": "945b6598-00a9-46ec-b9f4-31ae77206a9d",
   "metadata": {},
   "outputs": [
    {
     "data": {
      "text/plain": [
       "'d'"
      ]
     },
     "execution_count": 12,
     "metadata": {},
     "output_type": "execute_result"
    }
   ],
   "source": [
    "s[-2]"
   ]
  },
  {
   "cell_type": "code",
   "execution_count": 13,
   "id": "25d843fe-a3ce-45d1-822f-79e8ffc39dde",
   "metadata": {},
   "outputs": [
    {
     "ename": "IndexError",
     "evalue": "string index out of range",
     "output_type": "error",
     "traceback": [
      "\u001b[0;31m---------------------------------------------------------------------------\u001b[0m",
      "\u001b[0;31mIndexError\u001b[0m                                Traceback (most recent call last)",
      "Cell \u001b[0;32mIn[13], line 1\u001b[0m\n\u001b[0;32m----> 1\u001b[0m \u001b[43ms\u001b[49m\u001b[43m[\u001b[49m\u001b[38;5;241;43m-\u001b[39;49m\u001b[38;5;241;43m345\u001b[39;49m\u001b[43m]\u001b[49m\n",
      "\u001b[0;31mIndexError\u001b[0m: string index out of range"
     ]
    }
   ],
   "source": [
    "s[-345]"
   ]
  },
  {
   "cell_type": "code",
   "execution_count": 3,
   "id": "e781b0e6-0ab7-461e-a8c5-671d0b20b96d",
   "metadata": {},
   "outputs": [],
   "source": [
    "s1=\"pwskills\""
   ]
  },
  {
   "cell_type": "code",
   "execution_count": 6,
   "id": "9675571d-2eae-44ad-902f-e3c4a72fd8fe",
   "metadata": {},
   "outputs": [
    {
     "data": {
      "text/plain": [
       "'w'"
      ]
     },
     "execution_count": 6,
     "metadata": {},
     "output_type": "execute_result"
    }
   ],
   "source": [
    "s1[1:2]"
   ]
  },
  {
   "cell_type": "code",
   "execution_count": 7,
   "id": "5d96e8c3-7cf4-4827-a350-94f201284559",
   "metadata": {},
   "outputs": [
    {
     "data": {
      "text/plain": [
       "'ws'"
      ]
     },
     "execution_count": 7,
     "metadata": {},
     "output_type": "execute_result"
    }
   ],
   "source": [
    "s1[1:3]"
   ]
  },
  {
   "cell_type": "code",
   "execution_count": 8,
   "id": "ad05b43c-975c-4fd3-bd93-89a5dcc12ef0",
   "metadata": {},
   "outputs": [
    {
     "data": {
      "text/plain": [
       "'pw'"
      ]
     },
     "execution_count": 8,
     "metadata": {},
     "output_type": "execute_result"
    }
   ],
   "source": [
    "s1[0:2]"
   ]
  },
  {
   "cell_type": "code",
   "execution_count": 9,
   "id": "ecfd7941-c679-4a38-b9c0-d6bebe83edb9",
   "metadata": {},
   "outputs": [
    {
     "data": {
      "text/plain": [
       "'skill'"
      ]
     },
     "execution_count": 9,
     "metadata": {},
     "output_type": "execute_result"
    }
   ],
   "source": [
    "s1[2:7]"
   ]
  },
  {
   "cell_type": "code",
   "execution_count": 10,
   "id": "0e506251-4cbd-48ab-a639-4090731329f5",
   "metadata": {},
   "outputs": [
    {
     "data": {
      "text/plain": [
       "'skills'"
      ]
     },
     "execution_count": 10,
     "metadata": {},
     "output_type": "execute_result"
    }
   ],
   "source": [
    "s1[2:8]"
   ]
  },
  {
   "cell_type": "code",
   "execution_count": 11,
   "id": "51162f80-6f32-4caf-9df2-f35ca32e65db",
   "metadata": {},
   "outputs": [
    {
     "data": {
      "text/plain": [
       "'skills'"
      ]
     },
     "execution_count": 11,
     "metadata": {},
     "output_type": "execute_result"
    }
   ],
   "source": [
    "s1[2:]"
   ]
  },
  {
   "cell_type": "code",
   "execution_count": 12,
   "id": "c0fd6d04-50e6-4b79-b04a-cc8b16296eec",
   "metadata": {},
   "outputs": [
    {
     "data": {
      "text/plain": [
       "'skills'"
      ]
     },
     "execution_count": 12,
     "metadata": {},
     "output_type": "execute_result"
    }
   ],
   "source": [
    "s1[2:800]"
   ]
  },
  {
   "cell_type": "code",
   "execution_count": 17,
   "id": "b850f5e6-3450-421a-99fa-e16aa5f4e960",
   "metadata": {},
   "outputs": [],
   "source": [
    "#jump in given word"
   ]
  },
  {
   "cell_type": "code",
   "execution_count": 18,
   "id": "e15fd7c6-19d3-4e96-9e54-f7e8ca377f62",
   "metadata": {},
   "outputs": [
    {
     "data": {
      "text/plain": [
       "'psil'"
      ]
     },
     "execution_count": 18,
     "metadata": {},
     "output_type": "execute_result"
    }
   ],
   "source": [
    "s1[0:7:2]"
   ]
  },
  {
   "cell_type": "code",
   "execution_count": 19,
   "id": "bd5f944e-d873-41f2-bdba-882516d26259",
   "metadata": {},
   "outputs": [
    {
     "data": {
      "text/plain": [
       "'pwskill'"
      ]
     },
     "execution_count": 19,
     "metadata": {},
     "output_type": "execute_result"
    }
   ],
   "source": [
    "s1[0:7:1]"
   ]
  },
  {
   "cell_type": "code",
   "execution_count": 20,
   "id": "07a41a0c-94eb-4c61-ac38-3e41f2841f47",
   "metadata": {},
   "outputs": [
    {
     "data": {
      "text/plain": [
       "'pkl'"
      ]
     },
     "execution_count": 20,
     "metadata": {},
     "output_type": "execute_result"
    }
   ],
   "source": [
    "s1[0:7:3]"
   ]
  },
  {
   "cell_type": "code",
   "execution_count": 27,
   "id": "cfdaae70-b6b2-4036-99a4-4541ab72bc4d",
   "metadata": {},
   "outputs": [
    {
     "data": {
      "text/plain": [
       "''"
      ]
     },
     "execution_count": 27,
     "metadata": {},
     "output_type": "execute_result"
    }
   ],
   "source": [
    "s1[7:3]\n",
    "\n",
    "#will not execute because in forward slicing it is not possible to go inreverse direction in positive direction"
   ]
  },
  {
   "cell_type": "code",
   "execution_count": 28,
   "id": "bbcf578b-199b-4f33-9a4a-67d743932fee",
   "metadata": {},
   "outputs": [
    {
     "data": {
      "text/plain": [
       "'slli'"
      ]
     },
     "execution_count": 28,
     "metadata": {},
     "output_type": "execute_result"
    }
   ],
   "source": [
    "s1[7:3:-1]"
   ]
  },
  {
   "cell_type": "code",
   "execution_count": 29,
   "id": "705aa3cf-8ff3-4e45-bad9-1a1455532a56",
   "metadata": {},
   "outputs": [
    {
     "data": {
      "text/plain": [
       "''"
      ]
     },
     "execution_count": 29,
     "metadata": {},
     "output_type": "execute_result"
    }
   ],
   "source": [
    "s1[-1:-5]"
   ]
  },
  {
   "cell_type": "code",
   "execution_count": 31,
   "id": "cce667e6-6c6b-4a8e-9475-2a294c492e64",
   "metadata": {},
   "outputs": [
    {
     "data": {
      "text/plain": [
       "'slli'"
      ]
     },
     "execution_count": 31,
     "metadata": {},
     "output_type": "execute_result"
    }
   ],
   "source": [
    "s1[-1:-5:-1]"
   ]
  },
  {
   "cell_type": "code",
   "execution_count": 37,
   "id": "8b5cc776-a2c9-4f7c-b67d-a4a52beef468",
   "metadata": {},
   "outputs": [
    {
     "data": {
      "text/plain": [
       "''"
      ]
     },
     "execution_count": 37,
     "metadata": {},
     "output_type": "execute_result"
    }
   ],
   "source": [
    "s1[7:0]"
   ]
  },
  {
   "cell_type": "code",
   "execution_count": 38,
   "id": "b70eb33d-291e-4666-8408-18a592e468fd",
   "metadata": {},
   "outputs": [
    {
     "data": {
      "text/plain": [
       "'slliksw'"
      ]
     },
     "execution_count": 38,
     "metadata": {},
     "output_type": "execute_result"
    }
   ],
   "source": [
    "s1[7:0:-1]"
   ]
  },
  {
   "cell_type": "code",
   "execution_count": 40,
   "id": "6149d52f-168a-474c-bcba-65fbf470a6bb",
   "metadata": {},
   "outputs": [
    {
     "data": {
      "text/plain": [
       "'sllikswp'"
      ]
     },
     "execution_count": 40,
     "metadata": {},
     "output_type": "execute_result"
    }
   ],
   "source": [
    "s1[7::-1]"
   ]
  },
  {
   "cell_type": "code",
   "execution_count": 41,
   "id": "bddda6bf-6d3e-4ce2-9fc6-2f128b936761",
   "metadata": {},
   "outputs": [
    {
     "data": {
      "text/plain": [
       "'sllikswp'"
      ]
     },
     "execution_count": 41,
     "metadata": {},
     "output_type": "execute_result"
    }
   ],
   "source": [
    "s1[7:-9:-1]"
   ]
  },
  {
   "cell_type": "code",
   "execution_count": 42,
   "id": "3e4d7a46-cfb2-40c1-aef4-777d1fe504c3",
   "metadata": {},
   "outputs": [
    {
     "data": {
      "text/plain": [
       "'slliksw'"
      ]
     },
     "execution_count": 42,
     "metadata": {},
     "output_type": "execute_result"
    }
   ],
   "source": [
    "s1[7:-8:-1]"
   ]
  },
  {
   "cell_type": "code",
   "execution_count": 44,
   "id": "fbe3aed1-13b4-48e7-88fc-2277b9572ed4",
   "metadata": {},
   "outputs": [
    {
     "data": {
      "text/plain": [
       "'sllikswp'"
      ]
     },
     "execution_count": 44,
     "metadata": {},
     "output_type": "execute_result"
    }
   ],
   "source": [
    "s1[7:-700:-1]"
   ]
  },
  {
   "cell_type": "code",
   "execution_count": 45,
   "id": "af46615d-96ef-4816-bfd4-6f173f445b4c",
   "metadata": {},
   "outputs": [
    {
     "data": {
      "text/plain": [
       "'sllikswp'"
      ]
     },
     "execution_count": 45,
     "metadata": {},
     "output_type": "execute_result"
    }
   ],
   "source": [
    "s1[::-1]"
   ]
  },
  {
   "cell_type": "code",
   "execution_count": 46,
   "id": "7980f11b-8e61-4abc-b884-9f357bff622e",
   "metadata": {},
   "outputs": [
    {
     "data": {
      "text/plain": [
       "'p'"
      ]
     },
     "execution_count": 46,
     "metadata": {},
     "output_type": "execute_result"
    }
   ],
   "source": [
    "s1[0]"
   ]
  },
  {
   "cell_type": "code",
   "execution_count": 47,
   "id": "9f5d19ca-836a-48cc-8098-a1be50654cb8",
   "metadata": {},
   "outputs": [],
   "source": [
    "a=10"
   ]
  },
  {
   "cell_type": "code",
   "execution_count": 48,
   "id": "4594f7aa-ffd3-4aa1-9bda-d9db3486d162",
   "metadata": {},
   "outputs": [],
   "source": [
    "a=20"
   ]
  },
  {
   "cell_type": "code",
   "execution_count": 49,
   "id": "d3a9128c-25a9-4dd5-a9eb-8fbaa1d5f741",
   "metadata": {},
   "outputs": [
    {
     "data": {
      "text/plain": [
       "20"
      ]
     },
     "execution_count": 49,
     "metadata": {},
     "output_type": "execute_result"
    }
   ],
   "source": [
    "a"
   ]
  },
  {
   "cell_type": "code",
   "execution_count": 50,
   "id": "0b43d894-b8aa-402b-b8ce-f0c0943c72c6",
   "metadata": {},
   "outputs": [
    {
     "ename": "TypeError",
     "evalue": "'str' object does not support item assignment",
     "output_type": "error",
     "traceback": [
      "\u001b[0;31m---------------------------------------------------------------------------\u001b[0m",
      "\u001b[0;31mTypeError\u001b[0m                                 Traceback (most recent call last)",
      "Cell \u001b[0;32mIn[50], line 1\u001b[0m\n\u001b[0;32m----> 1\u001b[0m \u001b[43ms1\u001b[49m\u001b[43m[\u001b[49m\u001b[38;5;241;43m0\u001b[39;49m\u001b[43m]\u001b[49m\u001b[38;5;241m=\u001b[39m\u001b[38;5;124m'\u001b[39m\u001b[38;5;124ms\u001b[39m\u001b[38;5;124m'\u001b[39m\n",
      "\u001b[0;31mTypeError\u001b[0m: 'str' object does not support item assignment"
     ]
    }
   ],
   "source": [
    "s1[0]='s'"
   ]
  },
  {
   "cell_type": "code",
   "execution_count": 51,
   "id": "001d72ab-ebff-4d2d-9794-009335ff8b0e",
   "metadata": {},
   "outputs": [],
   "source": [
    "#in case of string reassignment is not possible"
   ]
  },
  {
   "cell_type": "code",
   "execution_count": null,
   "id": "6c27d488-4d46-4482-8907-65b98411c241",
   "metadata": {},
   "outputs": [],
   "source": []
  }
 ],
 "metadata": {
  "kernelspec": {
   "display_name": "Python 3 (ipykernel)",
   "language": "python",
   "name": "python3"
  },
  "language_info": {
   "codemirror_mode": {
    "name": "ipython",
    "version": 3
   },
   "file_extension": ".py",
   "mimetype": "text/x-python",
   "name": "python",
   "nbconvert_exporter": "python",
   "pygments_lexer": "ipython3",
   "version": "3.10.8"
  }
 },
 "nbformat": 4,
 "nbformat_minor": 5
}
